{
 "cells": [
  {
   "cell_type": "markdown",
   "id": "a3459528-b857-465c-a4f7-e6b3e187c6d4",
   "metadata": {},
   "source": [
    "# Projeto final Raciocínio Algorítmico\n",
    "## Dados do balanço patrimonial da Petrobras S.A.\n",
    "#### O período temporal analisado foi de 2020 a 2022 e od dados foram coletados no site da Fundamentus.\n"
   ]
  },
  {
   "cell_type": "raw",
   "id": "3ba6555d-8d22-4e4a-8c94-aaa5174a9bf6",
   "metadata": {},
   "source": [
    "---\n",
    "title: \"Projeto final Raciocínio Algorítmico\"\n",
    "author: \"Jaine Aparecida Santos\"\n",
    "date: \"20 de junho de 2023\"\n",
    "lang: pt\n",
    "format: \n",
    "  html:\n",
    "    code-tools: true\n",
    "    code-fold: true\n",
    "    default-image-extension: png\n",
    "    page-layout: full\n",
    "jupyter: python3\n",
    "---"
   ]
  },
  {
   "cell_type": "markdown",
   "id": "3428982b-c53d-4aa8-9ae2-bd72f5cb8b1f",
   "metadata": {},
   "source": [
    "1) Escolha da base de dados: o aluno tem liberdade para escolher a base de dados que utilizará na atividade, desde dados de uma empresa ao longo do tempo, de várias empresas em um determinado momento, até indicadores econômicos, sociais ou demográficos. Pode ser em formato CSV ou utilizando alguma biblioteca (API) específica, como fizemos com o Ipeadata. Caso precise, segue lista de locais para baixar bases de dados (https://www.cienciadedados.org/bancosdadosLinks to an external site.)\n",
    "\n",
    "1.1) Restrição: uma base com, pelo menos, 3 variáveis (colunas) numéricas. Deve importar a base para o projeto e apresentar as primeiras linhas para confirmar\n"
   ]
  },
  {
   "cell_type": "code",
   "execution_count": 29,
   "id": "421b6cdd-69ae-4b05-8a47-33eac842cd1d",
   "metadata": {},
   "outputs": [
    {
     "data": {
      "text/html": [
       "<div>\n",
       "<style scoped>\n",
       "    .dataframe tbody tr th:only-of-type {\n",
       "        vertical-align: middle;\n",
       "    }\n",
       "\n",
       "    .dataframe tbody tr th {\n",
       "        vertical-align: top;\n",
       "    }\n",
       "\n",
       "    .dataframe thead th {\n",
       "        text-align: right;\n",
       "    }\n",
       "</style>\n",
       "<table border=\"1\" class=\"dataframe\">\n",
       "  <thead>\n",
       "    <tr style=\"text-align: right;\">\n",
       "      <th></th>\n",
       "      <th>Ano</th>\n",
       "      <th>Receita Líquida</th>\n",
       "      <th>Custo de Bens e Serviços Vendidos</th>\n",
       "      <th>Resultado Bruto</th>\n",
       "      <th>Despesas Com Vendas</th>\n",
       "      <th>Despesas Gerais e Administrativas</th>\n",
       "      <th>Outras Despesas Operacionais</th>\n",
       "      <th>Resultado da Equivalência Patrimonial</th>\n",
       "      <th>Financeiras</th>\n",
       "      <th>Receitas Financeiras</th>\n",
       "      <th>Despesas Financeiras</th>\n",
       "      <th>Resultado Antes Tributação</th>\n",
       "      <th>Provisão para IR e Contribuição Social</th>\n",
       "      <th>IR Diferido</th>\n",
       "      <th>Part. de Acionistas Não Controladores</th>\n",
       "      <th>Lucro do Período</th>\n",
       "    </tr>\n",
       "  </thead>\n",
       "  <tbody>\n",
       "    <tr>\n",
       "      <th>0</th>\n",
       "      <td>2022.0</td>\n",
       "      <td>158579016.0</td>\n",
       "      <td>-81941996.0</td>\n",
       "      <td>76637004.0</td>\n",
       "      <td>-6794999.0</td>\n",
       "      <td>-1977000.0</td>\n",
       "      <td>-9412000.0</td>\n",
       "      <td>-642000.0</td>\n",
       "      <td>1490000.0</td>\n",
       "      <td>2293000.0</td>\n",
       "      <td>-802998.0</td>\n",
       "      <td>59300999.0</td>\n",
       "      <td>-22774002.0</td>\n",
       "      <td>6975000.0</td>\n",
       "      <td>-161000.0</td>\n",
       "      <td>43341005.0</td>\n",
       "    </tr>\n",
       "    <tr>\n",
       "      <th>1</th>\n",
       "      <td>2021.0</td>\n",
       "      <td>134189998.0</td>\n",
       "      <td>-75143004.0</td>\n",
       "      <td>59046994.0</td>\n",
       "      <td>-6099999.0</td>\n",
       "      <td>-1710000.0</td>\n",
       "      <td>6469000.0</td>\n",
       "      <td>583000.0</td>\n",
       "      <td>-13804001.0</td>\n",
       "      <td>1485000.0</td>\n",
       "      <td>-15289002.0</td>\n",
       "      <td>44485005.0</td>\n",
       "      <td>-12365000.0</td>\n",
       "      <td>-396999.0</td>\n",
       "      <td>-219000.0</td>\n",
       "      <td>31504001.0</td>\n",
       "    </tr>\n",
       "    <tr>\n",
       "      <th>2</th>\n",
       "      <td>2020.0</td>\n",
       "      <td>74971988.0</td>\n",
       "      <td>-34612003.0</td>\n",
       "      <td>40359997.0</td>\n",
       "      <td>-6049000.0</td>\n",
       "      <td>-473000.0</td>\n",
       "      <td>33997998.0</td>\n",
       "      <td>173000.0</td>\n",
       "      <td>6811997.0</td>\n",
       "      <td>777000.0</td>\n",
       "      <td>6035002.0</td>\n",
       "      <td>74821001.0</td>\n",
       "      <td>-1498000.0</td>\n",
       "      <td>-12870999.0</td>\n",
       "      <td>-562000.0</td>\n",
       "      <td>59890000.0</td>\n",
       "    </tr>\n",
       "  </tbody>\n",
       "</table>\n",
       "</div>"
      ],
      "text/plain": [
       "      Ano  Receita Líquida  Custo de Bens e Serviços Vendidos  \\\n",
       "0  2022.0      158579016.0                        -81941996.0   \n",
       "1  2021.0      134189998.0                        -75143004.0   \n",
       "2  2020.0       74971988.0                        -34612003.0   \n",
       "\n",
       "   Resultado Bruto  Despesas Com Vendas  Despesas Gerais e Administrativas  \\\n",
       "0       76637004.0           -6794999.0                         -1977000.0   \n",
       "1       59046994.0           -6099999.0                         -1710000.0   \n",
       "2       40359997.0           -6049000.0                          -473000.0   \n",
       "\n",
       "   Outras Despesas Operacionais  Resultado da Equivalência Patrimonial  \\\n",
       "0                    -9412000.0                              -642000.0   \n",
       "1                     6469000.0                               583000.0   \n",
       "2                    33997998.0                               173000.0   \n",
       "\n",
       "   Financeiras  Receitas Financeiras  Despesas Financeiras  \\\n",
       "0    1490000.0             2293000.0             -802998.0   \n",
       "1  -13804001.0             1485000.0           -15289002.0   \n",
       "2    6811997.0              777000.0             6035002.0   \n",
       "\n",
       "   Resultado Antes Tributação  Provisão para IR e Contribuição Social  \\\n",
       "0                  59300999.0                             -22774002.0   \n",
       "1                  44485005.0                             -12365000.0   \n",
       "2                  74821001.0                              -1498000.0   \n",
       "\n",
       "   IR Diferido  Part. de Acionistas Não Controladores  Lucro do Período  \n",
       "0    6975000.0                              -161000.0        43341005.0  \n",
       "1    -396999.0                              -219000.0        31504001.0  \n",
       "2  -12870999.0                              -562000.0        59890000.0  "
      ]
     },
     "execution_count": 29,
     "metadata": {},
     "output_type": "execute_result"
    }
   ],
   "source": [
    "#| label: table\n",
    "#| tbl-cap: \"Demonstração do resultado Petrobras - 2020 a 2022\"\n",
    "import pandas as pd\n",
    "arquivo = \"dadospetrobras.csv\"\n",
    "df = pd.read_csv(arquivo, sep=';') \n",
    "\n",
    "df.head(3)"
   ]
  },
  {
   "cell_type": "code",
   "execution_count": null,
   "id": "8727c7be-ad73-473a-8bdc-793e962be2d7",
   "metadata": {},
   "outputs": [],
   "source": []
  },
  {
   "cell_type": "markdown",
   "id": "f755e584-1861-4152-ba40-bdb759139e15",
   "metadata": {},
   "source": [
    "2) Criação de função própria: durante o projeto, deve criar e utilizar, pelo menos, 1 função própria\n",
    "\n",
    "2.1) Restrição: a função pode ser do tipo def ou lambda, mas precisa ser criada e utilizada em algum momento do projeto"
   ]
  },
  {
   "cell_type": "code",
   "execution_count": 21,
   "id": "01a3f7e4-b151-4a03-ac4d-ef6805a573d3",
   "metadata": {},
   "outputs": [
    {
     "data": {
      "text/html": [
       "<div>\n",
       "<style scoped>\n",
       "    .dataframe tbody tr th:only-of-type {\n",
       "        vertical-align: middle;\n",
       "    }\n",
       "\n",
       "    .dataframe tbody tr th {\n",
       "        vertical-align: top;\n",
       "    }\n",
       "\n",
       "    .dataframe thead th {\n",
       "        text-align: right;\n",
       "    }\n",
       "</style>\n",
       "<table border=\"1\" class=\"dataframe\">\n",
       "  <thead>\n",
       "    <tr style=\"text-align: right;\">\n",
       "      <th></th>\n",
       "      <th>Ano</th>\n",
       "      <th>Receita Líquida</th>\n",
       "      <th>Custo de Bens e Serviços Vendidos</th>\n",
       "      <th>Resultado Bruto</th>\n",
       "      <th>Despesas Com Vendas</th>\n",
       "      <th>Despesas Gerais e Administrativas</th>\n",
       "      <th>Outras Despesas Operacionais</th>\n",
       "      <th>Resultado da Equivalência Patrimonial</th>\n",
       "      <th>Financeiras</th>\n",
       "      <th>Receitas Financeiras</th>\n",
       "      <th>Despesas Financeiras</th>\n",
       "      <th>Resultado Antes Tributação</th>\n",
       "      <th>Provisão para IR e Contribuição Social</th>\n",
       "      <th>IR Diferido</th>\n",
       "      <th>Part. de Acionistas Não Controladores</th>\n",
       "      <th>Lucro do Período</th>\n",
       "      <th>Margem líquida</th>\n",
       "    </tr>\n",
       "  </thead>\n",
       "  <tbody>\n",
       "    <tr>\n",
       "      <th>0</th>\n",
       "      <td>2022.0</td>\n",
       "      <td>158579016.0</td>\n",
       "      <td>-81941996.0</td>\n",
       "      <td>76637004.0</td>\n",
       "      <td>-6794999.0</td>\n",
       "      <td>-1977000.0</td>\n",
       "      <td>-9412000.0</td>\n",
       "      <td>-642000.0</td>\n",
       "      <td>1490000.0</td>\n",
       "      <td>2293000.0</td>\n",
       "      <td>-802998.0</td>\n",
       "      <td>59300999.0</td>\n",
       "      <td>-22774002.0</td>\n",
       "      <td>6975000.0</td>\n",
       "      <td>-161000.0</td>\n",
       "      <td>43341005.0</td>\n",
       "      <td>0.273309</td>\n",
       "    </tr>\n",
       "    <tr>\n",
       "      <th>1</th>\n",
       "      <td>2021.0</td>\n",
       "      <td>134189998.0</td>\n",
       "      <td>-75143004.0</td>\n",
       "      <td>59046994.0</td>\n",
       "      <td>-6099999.0</td>\n",
       "      <td>-1710000.0</td>\n",
       "      <td>6469000.0</td>\n",
       "      <td>583000.0</td>\n",
       "      <td>-13804001.0</td>\n",
       "      <td>1485000.0</td>\n",
       "      <td>-15289002.0</td>\n",
       "      <td>44485005.0</td>\n",
       "      <td>-12365000.0</td>\n",
       "      <td>-396999.0</td>\n",
       "      <td>-219000.0</td>\n",
       "      <td>31504001.0</td>\n",
       "      <td>0.234772</td>\n",
       "    </tr>\n",
       "    <tr>\n",
       "      <th>2</th>\n",
       "      <td>2020.0</td>\n",
       "      <td>74971988.0</td>\n",
       "      <td>-34612003.0</td>\n",
       "      <td>40359997.0</td>\n",
       "      <td>-6049000.0</td>\n",
       "      <td>-473000.0</td>\n",
       "      <td>33997998.0</td>\n",
       "      <td>173000.0</td>\n",
       "      <td>6811997.0</td>\n",
       "      <td>777000.0</td>\n",
       "      <td>6035002.0</td>\n",
       "      <td>74821001.0</td>\n",
       "      <td>-1498000.0</td>\n",
       "      <td>-12870999.0</td>\n",
       "      <td>-562000.0</td>\n",
       "      <td>59890000.0</td>\n",
       "      <td>0.798832</td>\n",
       "    </tr>\n",
       "  </tbody>\n",
       "</table>\n",
       "</div>"
      ],
      "text/plain": [
       "      Ano  Receita Líquida  Custo de Bens e Serviços Vendidos  \\\n",
       "0  2022.0      158579016.0                        -81941996.0   \n",
       "1  2021.0      134189998.0                        -75143004.0   \n",
       "2  2020.0       74971988.0                        -34612003.0   \n",
       "\n",
       "   Resultado Bruto  Despesas Com Vendas  Despesas Gerais e Administrativas  \\\n",
       "0       76637004.0           -6794999.0                         -1977000.0   \n",
       "1       59046994.0           -6099999.0                         -1710000.0   \n",
       "2       40359997.0           -6049000.0                          -473000.0   \n",
       "\n",
       "   Outras Despesas Operacionais  Resultado da Equivalência Patrimonial  \\\n",
       "0                    -9412000.0                              -642000.0   \n",
       "1                     6469000.0                               583000.0   \n",
       "2                    33997998.0                               173000.0   \n",
       "\n",
       "   Financeiras  Receitas Financeiras  Despesas Financeiras  \\\n",
       "0    1490000.0             2293000.0             -802998.0   \n",
       "1  -13804001.0             1485000.0           -15289002.0   \n",
       "2    6811997.0              777000.0             6035002.0   \n",
       "\n",
       "   Resultado Antes Tributação  Provisão para IR e Contribuição Social  \\\n",
       "0                  59300999.0                             -22774002.0   \n",
       "1                  44485005.0                             -12365000.0   \n",
       "2                  74821001.0                              -1498000.0   \n",
       "\n",
       "   IR Diferido  Part. de Acionistas Não Controladores  Lucro do Período  \\\n",
       "0    6975000.0                              -161000.0        43341005.0   \n",
       "1    -396999.0                              -219000.0        31504001.0   \n",
       "2  -12870999.0                              -562000.0        59890000.0   \n",
       "\n",
       "   Margem líquida  \n",
       "0        0.273309  \n",
       "1        0.234772  \n",
       "2        0.798832  "
      ]
     },
     "execution_count": 21,
     "metadata": {},
     "output_type": "execute_result"
    }
   ],
   "source": [
    "df['Margem líquida'] = df.apply(lambda row: row['Lucro do Período'] / row['Receita Líquida'], axis=1)\n",
    "df.head(3)"
   ]
  },
  {
   "cell_type": "code",
   "execution_count": 22,
   "id": "6d6e1681-e06c-4572-af8b-af0fd3291b2b",
   "metadata": {},
   "outputs": [],
   "source": [
    "df.to_csv('dadospetrobrasatualizados.csv', sep=';', index=False)"
   ]
  },
  {
   "cell_type": "markdown",
   "id": "e8860386-de76-4655-b301-c256a4534fd6",
   "metadata": {},
   "source": [
    "3) Estrutura de repetição e condição: Ao longo do projeto deve constar o uso de, pelo menos, uma estrutura de repetição (for ou while) e uma estrutura de condição (if, elif, else)\n",
    "\n",
    "3.1) Restrição: Deve ter, pelo menos, uma repetição (for ou while) e uma condição (if)"
   ]
  },
  {
   "cell_type": "code",
   "execution_count": 23,
   "id": "8165013c-b38f-45da-b5b0-2019d48f5a68",
   "metadata": {},
   "outputs": [
    {
     "name": "stdout",
     "output_type": "stream",
     "text": [
      "Períodos em que o Lucro Líquido é maior que 30.000.000:\n",
      "[2022.0, 2021.0, 2020.0]\n"
     ]
    }
   ],
   "source": [
    "Periodos_Lucro_Líquido_Maior = []\n",
    "\n",
    "for indice, linha in df.iterrows():\n",
    "\n",
    "    Lucro_Líquido = linha['Lucro do Período']\n",
    "    \n",
    "    if Lucro_Líquido > 30_000_000:\n",
    "        Período = linha['Ano']\n",
    "        Periodos_Lucro_Líquido_Maior.append(Período)\n",
    "\n",
    "print(\"Períodos em que o Lucro Líquido é maior que 30.000.000:\")\n",
    "print(Periodos_Lucro_Líquido_Maior)"
   ]
  },
  {
   "cell_type": "markdown",
   "id": "6ca06d6e-54c7-47a2-8c1e-00bf3632e165",
   "metadata": {},
   "source": [
    "4) Funções especiais: Das 5 funções especiais vistas na aula 12 (map, reduce, zap, enumerate e filter), pelo menos 1 delas precisa ser utilizada no projeto de qualquer forma\n",
    "\n",
    "4.1) Restrição: Pelo menos 1 das funções especiais precisar ser utilizada em algum momento do projeto"
   ]
  },
  {
   "cell_type": "code",
   "execution_count": 24,
   "id": "1a2f92f4-75c1-4f9e-bc50-7ba334b08dfd",
   "metadata": {},
   "outputs": [
    {
     "name": "stdout",
     "output_type": "stream",
     "text": [
      "Ano com o maior lucro: 2020\n"
     ]
    }
   ],
   "source": [
    "\n",
    "from functools import reduce\n",
    "\n",
    "anos = [2022, 2021, 2020]\n",
    "lucros_do_periodo = [43341005, 31504001, 59890000]\n",
    "\n",
    "indice_max_lucro = reduce(lambda x, y: x if lucros_do_periodo[x] > lucros_do_periodo[y] else y, range(len(lucros_do_periodo)))\n",
    "\n",
    "ano_max_lucro = anos[indice_max_lucro]\n",
    "\n",
    "print(\"Ano com o maior lucro:\", ano_max_lucro)\n"
   ]
  },
  {
   "cell_type": "markdown",
   "id": "4aa78433-6ea5-4848-b6c9-0046ae0f10c3",
   "metadata": {},
   "source": [
    "5) Resumo estatístico: Entre todas as formas de resumo das variáveis numéricas que vimos ao longo das aulas (operadores matemáticos básicos, sum, mean, median), deve escolher e utilizar pelo menos duas delas. O uso pode ser em alguma função, repetição ou condição, mas em algum lugar precisa realizar algum cálculo.\n",
    "\n",
    "5.1) Restrição: Uso de, pelo menos duas operações matemáticas em qualquer lugar do projeto"
   ]
  },
  {
   "cell_type": "code",
   "execution_count": 28,
   "id": "deaa3fc3-7ad3-4c8a-b54c-98a41165cbda",
   "metadata": {},
   "outputs": [
    {
     "name": "stdout",
     "output_type": "stream",
     "text": [
      "Soma do Lucro do Período: 134735006.0\n",
      "Media do Lucro do Período: 43341005.0\n"
     ]
    }
   ],
   "source": [
    "soma_lucro = df.iloc[:, 15].sum()\n",
    "print(\"Soma do Lucro do Período:\", soma_lucro)\n",
    "Media_lucro = df.iloc[:, 15].median()\n",
    "print(\"Media do Lucro do Período:\", Media_lucro)\n"
   ]
  },
  {
   "cell_type": "markdown",
   "id": "18f30b5f-5d92-4f21-9a25-bf272cc6b6e5",
   "metadata": {},
   "source": [
    "6) Publicação usando Quarto: O arquivo do projeto deve ser preparado para publicação usando o Quarto. Ao final da construção do projeto, deve parametrizar o arquivo para incluir a célula Raw com os dados de publicação no início e as referências nas células que contenham tabela ou gráfico\n",
    "\n",
    "6.1) Restrição: Parametrização correta da célula Raw no início de referência no início da celula de pelo menos um objeto (tabela ou gráfico)"
   ]
  },
  {
   "cell_type": "markdown",
   "id": "682ebd3c-aeb5-4592-82c0-1cc5ef4210ec",
   "metadata": {},
   "source": [
    "7) Publicação do projeto no GitHub: Ao final, deve postar o arquivo do projeto (.ipynb) em um repositório no do GitHub (como vimos na aula 13). Deve lembrar de deixar o repositório como público para que consiga conferir no momento da correção. Se utilizou base de dados em CSV, deve incluir o arquivo no repositório também\n",
    "\n",
    "7.1) Restrição: Publicação do arquivo .ipynb em repositório próprio e público no GitHub e indicação do link do repositório no momento da postagem"
   ]
  },
  {
   "cell_type": "code",
   "execution_count": null,
   "id": "21aac1d8-d3e8-43d6-880e-a0e94abe6143",
   "metadata": {},
   "outputs": [],
   "source": []
  }
 ],
 "metadata": {
  "kernelspec": {
   "display_name": "Python 3 (ipykernel)",
   "language": "python",
   "name": "python3"
  },
  "language_info": {
   "codemirror_mode": {
    "name": "ipython",
    "version": 3
   },
   "file_extension": ".py",
   "mimetype": "text/x-python",
   "name": "python",
   "nbconvert_exporter": "python",
   "pygments_lexer": "ipython3",
   "version": "3.9.13"
  }
 },
 "nbformat": 4,
 "nbformat_minor": 5
}
